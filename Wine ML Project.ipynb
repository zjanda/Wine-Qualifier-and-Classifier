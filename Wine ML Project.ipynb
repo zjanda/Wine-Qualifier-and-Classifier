{
 "cells": [
  {
   "cell_type": "code",
   "execution_count": 3,
   "metadata": {},
   "outputs": [],
   "source": [
    "import numpy as np\n",
    "import mltools as ml\n",
    "import matplotlib.pyplot as plt\n",
    "import pandas as pd\n",
    "import seaborn as sns\n",
    "import os.path"
   ]
  },
  {
   "cell_type": "markdown",
   "metadata": {},
   "source": [
    "# Data Exploration"
   ]
  },
  {
   "cell_type": "markdown",
   "metadata": {},
   "source": [
    "What type of data do we have? Real values /n\n",
    "Shape of data: 1599 data points for red, 4898 data points for white, 11 features\n"
   ]
  },
  {
   "cell_type": "code",
   "execution_count": 4,
   "metadata": {},
   "outputs": [],
   "source": [
    "# Data Loading\n",
    "red_data = pd.read_csv('data/winequality-red.csv', delimiter=';')\n",
    "white_data = pd.read_csv('data/winequality-white.csv', delimiter=';')"
   ]
  },
  {
   "cell_type": "code",
   "execution_count": 5,
   "metadata": {},
   "outputs": [],
   "source": [
    "# Y values\n",
    "#    1 - fixed acidity\n",
    "#    2 - volatile acidity\n",
    "#    3 - citric acid\n",
    "#    4 - residual sugar\n",
    "#    5 - chlorides\n",
    "#    6 - free sulfur dioxide\n",
    "#    7 - total sulfur dioxide\n",
    "#    8 - density\n",
    "#    9 - pH\n",
    "#    10 - sulphates\n",
    "#    11 - alcohol"
   ]
  },
  {
   "cell_type": "markdown",
   "metadata": {},
   "source": [
    "# Feature Selection / Dimensionality Reduction\n",
    "https://machinelearningmastery.com/feature-selection-with-real-and-categorical-data/"
   ]
  },
  {
   "cell_type": "markdown",
   "metadata": {},
   "source": [
    "## Unsupervised Feature Selection"
   ]
  },
  {
   "cell_type": "code",
   "execution_count": null,
   "metadata": {},
   "outputs": [
    {
     "data": {
      "text/plain": [
       "<seaborn.axisgrid.PairGrid at 0x25ce72caca0>"
      ]
     },
     "execution_count": 6,
     "metadata": {},
     "output_type": "execute_result"
    }
   ],
   "source": [
    "sns.pairplot(red_data, hue='quality')"
   ]
  },
  {
   "cell_type": "code",
   "execution_count": null,
   "metadata": {},
   "outputs": [],
   "source": [
    "sns.pairplot(white_data, hue='quality')"
   ]
  },
  {
   "cell_type": "markdown",
   "metadata": {},
   "source": [
    "https://towardsdatascience.com/feature-selection-techniques-in-machine-learning-with-python-f24e7da3f36e"
   ]
  },
  {
   "cell_type": "code",
   "execution_count": null,
   "metadata": {},
   "outputs": [],
   "source": [
    "X_red = red_data.iloc[:, :-1]  #independent columns\n",
    "y_red = red_data.iloc[:,-1]    #target column i.e price range\n",
    "#get correlations of each features in dataset\n",
    "red_corrmat = red_data.corr()\n",
    "top_red_corr_features = red_corrmat.index\n",
    "plt.figure(figsize=(20,20))\n",
    "#plot heat map\n",
    "g=sns.heatmap(red_data[top_red_corr_features].corr(),annot=True,cmap=\"RdYlGn\")"
   ]
  },
  {
   "cell_type": "code",
   "execution_count": null,
   "metadata": {},
   "outputs": [],
   "source": [
    "X_white = white_data.iloc[:, :-1]  #independent columns\n",
    "y_white = white_data.iloc[:,-1]    #target column i.e price range\n",
    "#get correlations of each features in dataset\n",
    "white_corrmat = white_data.corr()\n",
    "top_white_corr_features = white_corrmat.index\n",
    "plt.figure(figsize=(20,20))\n",
    "#plot heat map\n",
    "g=sns.heatmap(white_data[top_white_corr_features].corr(),annot=True,cmap=\"RdYlGn\")"
   ]
  },
  {
   "cell_type": "code",
   "execution_count": null,
   "metadata": {},
   "outputs": [],
   "source": [
    "# X_red, y_red, X_white, y_white\n",
    "\n",
    "#getting the x and y data for both colors\n",
    "X_red = red_data.iloc[:, :-1]  #independent columns\n",
    "y_red = red_data.iloc[:,-1]    #target column i.e price range\n",
    "X_white = white_data.iloc[:, :-1]  #independent columns\n",
    "y_white = white_data.iloc[:,-1]    #target column i.e price range\n",
    "\n",
    "#converting to np so i can actually use it\n",
    "X_red = X_red.to_numpy()\n",
    "y_red = y_red.to_numpy()\n",
    "X_white = X_white.to_numpy()\n",
    "y_white = y_white.to_numpy()\n",
    "\n",
    "#splitting the data into test and train\n",
    "Xtr_red,Xva_red,Ytr_red,Yva_red         = ml.splitData(X_red,y_red, 0.75);\n",
    "Xtr_white,Xva_white,Ytr_white,Yva_white = ml.splitData(X_white,y_white, 0.75);\n",
    "\n",
    "#variables for the for loops\n",
    "num_nodes = [2, 4, 7, 10]\n",
    "node_len = len(num_nodes)\n",
    "num_layers = [2, 3, 4]\n",
    "layer_len = len(num_layers)"
   ]
  },
  {
   "cell_type": "code",
   "execution_count": null,
   "metadata": {},
   "outputs": [],
   "source": [
    "import random\n",
    "\n",
    "combined_data = np.concatenate((red_data, white_data))\n",
    "\n",
    "is_red = np.array([0] * red_data.shape[0])\n",
    "is_white = np.array([1] * white_data.shape[0])\n",
    "combined_Y = np.concatenate((is_red, is_white))\n",
    "combined_X = combined_data[:, :-1]\n",
    "random.seed(0)\n",
    "combined_X, combined_Y = ml.shuffleData(combined_X, combined_Y)\n",
    "\n",
    "Xtr, Xva, Ytr, Yva = ml.splitData(combined_X, combined_Y)"
   ]
  },
  {
   "cell_type": "code",
   "execution_count": null,
   "metadata": {},
   "outputs": [],
   "source": [
    "node_counts = [2, 10, 20, 50]\n",
    "layer_counts = [2, 4, 6]\n",
    "\n",
    "tr_auc = np.zeros((len(node_counts), len(layer_counts)))\n",
    "va_auc = np.zeros((len(node_counts), len(layer_counts)))\n",
    "\n",
    "for i, node_count in enumerate(node_counts):\n",
    "    for j, layer_count in enumerate(layer_counts):\n",
    "        nn = ml.nnet.nnetClassify()\n",
    "        nn.init_weights([Xtr.shape[1]] + [node_count] * layer_count + [2], 'random', Xtr, Ytr)  # as many layers nodes you want\n",
    "        nn.train(Xtr, Ytr, stopTol=1e-8, stepsize=.25, stopIter=500)\n",
    "\n",
    "        tr_auc[i][j] = nn.auc(Xtr, Ytr)\n",
    "        va_auc[i][j] = nn.auc(Xva, Yva)"
   ]
  },
  {
   "cell_type": "code",
   "execution_count": null,
   "metadata": {},
   "outputs": [],
   "source": [
    "# Now plot it\n",
    "best_auc = va_auc.max()\n",
    "indeces = np.where(va_auc == best_auc)\n",
    "indeces = tuple([indeces[i][0] for i in range(len(indeces))])\n",
    "best_node_count = node_counts[indeces[0]]\n",
    "best_layer_count = layer_counts[indeces[1]]\n",
    "print(f'best (node, layer) pairing is: ({best_node_count}, {best_layer_count})')"
   ]
  },
  {
   "cell_type": "code",
   "execution_count": null,
   "metadata": {},
   "outputs": [],
   "source": [
    "# Training AUC\n",
    "f, axes = plt.subplots(1, 1, figsize=(8, 5))\n",
    "plt.title('Neural Network Training AUC')\n",
    "c_axes = axes.matshow(tr_auc, interpolation='nearest')\n",
    "f.colorbar(c_axes)\n",
    "axes.set_xticklabels([''] + layer_counts)\n",
    "axes.set_xlabel('Layers')\n",
    "axes.set_yticklabels([''] + node_counts)\n",
    "axes.set_ylabel('Nodes')\n",
    "\n",
    "# Validation AUC\n",
    "f, axes = plt.subplots(1, 1, figsize=(8, 5))\n",
    "plt.title('Neural Network Validation AUC')\n",
    "c_axes = axes.matshow(va_auc, interpolation='nearest')\n",
    "f.colorbar(c_axes)\n",
    "axes.set_xticklabels([''] + layer_counts)\n",
    "axes.set_xlabel('Layers')\n",
    "axes.set_yticklabels([''] + node_counts)\n",
    "axes.set_ylabel('Nodes')"
   ]
  },
  {
   "cell_type": "code",
   "execution_count": null,
   "metadata": {},
   "outputs": [],
   "source": [
    "# Import the model we are using\n",
    "from sklearn.ensemble import RandomForestRegressor\n",
    "\n",
    "trees = [10,100,1000, 2000]\n",
    "acc_red = []\n",
    "acc_white = []\n",
    "best_red_acc = 0\n",
    "best_forest_red = 0\n",
    "best_white_acc = 0\n",
    "best_forest_white = 0\n",
    "# Instantiate model with 1000 decision trees\n",
    "for tree in trees:\n",
    "    rf = RandomForestRegressor(n_estimators = tree, random_state = 42)\n",
    "    rf.fit(Xtr_red, Ytr_red)             # Train\n",
    "    predictions = rf.predict(Xva_red)\n",
    "    errors = abs(predictions - Yva_red)\n",
    "    mape = 100 * (errors / Yva_red)      # Mean Absolute Percentage Error (MAPE)\n",
    "    accuracy = 100 - np.mean(mape)\n",
    "    if accuracy > best_red_acc:\n",
    "        best_red_acc = accuracy\n",
    "        best_forest_red = tree\n",
    "        \n",
    "    acc_red.append(accuracy) # Save for plotting\n",
    "    \n",
    "    rf = RandomForestRegressor(n_estimators = tree, random_state = 42)\n",
    "    # Train the model on training data\n",
    "    rf.fit(Xtr_white, Ytr_white);\n",
    "    \n",
    "    # Calculate Error\n",
    "    predictions = rf.predict(Xva_white)\n",
    "    errors = abs(predictions - Yva_white)\n",
    "    mape = 100 * (errors / Yva_white)  # mean absolute percentage error\n",
    "    accuracy = 100 - np.mean(mape)\n",
    "    if accuracy > best_white_acc:\n",
    "        best_white_acc = accuracy\n",
    "        best_forest_white = tree\n",
    "    \n",
    "    acc_white.append(accuracy) # Save for plotting"
   ]
  },
  {
   "cell_type": "code",
   "execution_count": null,
   "metadata": {},
   "outputs": [],
   "source": [
    "print('Best Red Wine Forest:', best_forest_red)\n",
    "print('Accuracy:', best_red_acc)\n",
    "\n",
    "print('Best White Wine Forest:', best_forest_white)\n",
    "print('Accuracy:', best_white_acc)"
   ]
  },
  {
   "cell_type": "code",
   "execution_count": null,
   "metadata": {},
   "outputs": [],
   "source": [
    "# Plot Red Wine Error vs Number of trees\n",
    "plt.plot(trees, acc_red, label='Red Wine', color='red')\n",
    "\n",
    "# Plot White Wine Error\n",
    "plt.plot(trees, acc_white, label='White Wine', color='gray')\n",
    "plt.title('Random Forest: Trees v. Accuracy')\n",
    "plt.xlabel('Trees')\n",
    "plt.ylabel('Accuracy')\n",
    "plt.legend()"
   ]
  },
  {
   "cell_type": "code",
   "execution_count": null,
   "metadata": {},
   "outputs": [],
   "source": []
  }
 ],
 "metadata": {
  "kernelspec": {
   "display_name": "Python 3",
   "language": "python",
   "name": "python3"
  },
  "language_info": {
   "codemirror_mode": {
    "name": "ipython",
    "version": 3
   },
   "file_extension": ".py",
   "mimetype": "text/x-python",
   "name": "python",
   "nbconvert_exporter": "python",
   "pygments_lexer": "ipython3",
   "version": "3.8.5"
  }
 },
 "nbformat": 4,
 "nbformat_minor": 5
}
